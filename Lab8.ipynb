{
 "cells": [
  {
   "cell_type": "markdown",
   "id": "19d1a75d-764e-485a-8b6b-406027df9b5d",
   "metadata": {},
   "source": [
    "## Lab 8: Measurement and Control of Charged Particle Beams\n",
    "### Sunil Pokharel"
   ]
  },
  {
   "cell_type": "markdown",
   "id": "e21d77b1-a977-4771-a919-d12af9871043",
   "metadata": {},
   "source": [
    "#### Part 1: Neural Network Surrogate Model"
   ]
  },
  {
   "cell_type": "code",
   "execution_count": 2,
   "id": "1d5cc3ac-a8f0-48e6-a1de-2d711b099e71",
   "metadata": {
    "tags": []
   },
   "outputs": [
    {
     "name": "stdout",
     "output_type": "stream",
     "text": [
      "3.9.16 | packaged by conda-forge | (main, Feb  1 2023, 21:38:11) \n",
      "[Clang 14.0.6 ]\n"
     ]
    }
   ],
   "source": [
    "import sys\n",
    "print(sys.version)"
   ]
  },
  {
   "cell_type": "code",
   "execution_count": 3,
   "id": "cffda54d-2dd5-4817-a72d-c99530cd50ca",
   "metadata": {
    "tags": []
   },
   "outputs": [
    {
     "name": "stdout",
     "output_type": "stream",
     "text": [
      "2.13.1\n",
      "2.13.0\n"
     ]
    }
   ],
   "source": [
    "import keras\n",
    "import tensorflow as tf\n",
    "\n",
    "print(keras.__version__)\n",
    "print(tf.__version__)"
   ]
  },
  {
   "cell_type": "code",
   "execution_count": 4,
   "id": "56e1d53b-7477-457d-abfd-635a7bad8d61",
   "metadata": {
    "tags": []
   },
   "outputs": [],
   "source": [
    "import numpy as np\n",
    "import matplotlib.pyplot as plt\n",
    "#from sklearn.model_selection import train_test_split\n",
    "#from sklearn.preprocessing import RobustScaler, MinMaxScaler\n",
    "#from keras.models import Sequential, Model\n",
    "#from keras.layers import Dense, GaussianNoise, Input, Flatten, Conv1D\n",
    "#from tensorflow.keras import regularizers"
   ]
  },
  {
   "cell_type": "code",
   "execution_count": 33,
   "id": "cbcfbd86-390f-45d3-bf05-3549cc83740d",
   "metadata": {
    "tags": []
   },
   "outputs": [],
   "source": [
    "from sklearn.model_selection import train_test_split\n",
    "from sklearn.preprocessing import RobustScaler, MinMaxScaler\n",
    "from keras.models import Sequential, Model\n",
    "from keras.layers import Dense, GaussianNoise, Input, Flatten, Conv1D\n",
    "from tensorflow.keras import regularizers"
   ]
  },
  {
   "cell_type": "code",
   "execution_count": 9,
   "id": "32ba430b-4cd4-424b-b9b7-b7350d71b483",
   "metadata": {
    "tags": []
   },
   "outputs": [
    {
     "name": "stdout",
     "output_type": "stream",
     "text": [
      "(2500, 11) (2500, 9)\n"
     ]
    },
    {
     "data": {
      "text/plain": [
       "(array([ 30.,  81., 218., 438., 566., 530., 356., 187.,  71.,  23.]),\n",
       " array([-12.87722412,   1.63005555,  16.13733521,  30.64461488,\n",
       "         45.15189455,  59.65917422,  74.16645389,  88.67373355,\n",
       "        103.18101322, 117.68829289, 132.19557256]),\n",
       " <BarContainer object of 10 artists>)"
      ]
     },
     "execution_count": 9,
     "metadata": {},
     "output_type": "execute_result"
    },
    {
     "data": {
      "image/png": "[encoded data removed]",
      "text/plain": [
       "<Figure size 640x480 with 1 Axes>"
      ]
     },
     "metadata": {},
     "output_type": "display_data"
    }
   ],
   "source": [
    "inputs = np.load('lab_8_inputs.npy')\n",
    "outputs= np.load('lab_8_outputs.npy')\n",
    "print(np.shape(inputs), np.shape(outputs))\n",
    "plt.figure()\n",
    "plt.hist(inputs[:,0],color ='r')"
   ]
  },
  {
   "cell_type": "code",
   "execution_count": 10,
   "id": "1057de79-4a48-4058-8df5-2882fed11ed3",
   "metadata": {},
   "outputs": [
    {
     "data": {
      "text/plain": [
       "(array([ 22.,  65., 183., 359., 483., 578., 436., 237., 100.,  37.]),\n",
       " array([0.0001933 , 0.00083406, 0.00147482, 0.00211558, 0.00275634,\n",
       "        0.00339711, 0.00403787, 0.00467863, 0.00531939, 0.00596015,\n",
       "        0.00660092]),\n",
       " <BarContainer object of 10 artists>)"
      ]
     },
     "execution_count": 10,
     "metadata": {},
     "output_type": "execute_result"
    },
    {
     "data": {
      "image/png": "[encoded data removed]",
      "text/plain": [
       "<Figure size 640x480 with 1 Axes>"
      ]
     },
     "metadata": {},
     "output_type": "display_data"
    }
   ],
   "source": [
    "plt.figure()\n",
    "plt.hist(outputs[:,0],color ='g')"
   ]
  },
  {
   "cell_type": "code",
   "execution_count": 27,
   "id": "0e3068a7-c7f9-47a3-bc5f-ea10059597cb",
   "metadata": {},
   "outputs": [],
   "source": [
    "from sklearn.preprocessing import MinMaxScaler\n",
    "\n",
    "# Create separate scalers for X and y\n",
    "scaler_x = MinMaxScaler(feature_range=(-1, 1))\n",
    "scaler_y = MinMaxScaler(feature_range=(-1, 1))\n",
    "\n",
    "# Fit and transform X and y separately\n",
    "x_scaled = scaler_x.fit_transform(inputs)\n",
    "y_scaled = scaler_y.fit_transform(outputs)\n",
    "\n",
    "# To get back to the original data from the scaled data\n",
    "x_original = scaler_x.inverse_transform(x_scaled)\n",
    "y_original = scaler_y.inverse_transform(y_scaled)\n"
   ]
  },
  {
   "cell_type": "code",
   "execution_count": 29,
   "id": "988a3dc3-838b-4e3d-bc69-81e052849dfb",
   "metadata": {},
   "outputs": [
    {
     "name": "stdout",
     "output_type": "stream",
     "text": [
      "[ 5.80000000e+01  3.43773291e+07  5.32253071e-03  4.22718574e-05\n",
      "  7.98193851e-03  3.12159010e-03  7.61551882e-07  1.38062029e-03\n",
      "  4.03601780e-03 -3.45286991e-06  2.30578993e-03] [ 5.80000000e+01  3.43773291e+07  5.32253071e-03  4.22718574e-05\n",
      "  7.98193851e-03  3.12159010e-03  7.61551882e-07  1.38062029e-03\n",
      "  4.03601780e-03 -3.45286991e-06  2.30578993e-03]\n"
     ]
    }
   ],
   "source": [
    "print(inputs[0], x_original[0])"
   ]
  },
  {
   "cell_type": "code",
   "execution_count": 31,
   "id": "4ddfe02b-1f9c-4472-b978-a6d19f7eb4c8",
   "metadata": {},
   "outputs": [
    {
     "data": {
      "text/plain": [
       "((2500, 11), (2500, 9))"
      ]
     },
     "execution_count": 31,
     "metadata": {},
     "output_type": "execute_result"
    }
   ],
   "source": [
    "x_scaled.shape, y_scaled.shape "
   ]
  },
  {
   "cell_type": "code",
   "execution_count": 32,
   "id": "d4779698-c25f-463d-b6dd-aef210aa6483",
   "metadata": {},
   "outputs": [
    {
     "data": {
      "text/plain": [
       "((2500, 11), (2500, 9))"
      ]
     },
     "execution_count": 32,
     "metadata": {},
     "output_type": "execute_result"
    }
   ],
   "source": [
    "x_original.shape, y_original.shape "
   ]
  },
  {
   "cell_type": "code",
   "execution_count": 34,
   "id": "e7734644-375d-43ea-9080-21d34940644b",
   "metadata": {},
   "outputs": [],
   "source": [
    "from sklearn.model_selection import train_test_split\n",
    "from sklearn.preprocessing import RobustScaler, MinMaxScaler\n",
    "from keras.models import Sequential, Model\n",
    "from keras.layers import Dense, GaussianNoise, Input, Flatten, Conv1D\n",
    "from tensorflow.keras import regularizers\n",
    "split = 80\n",
    "x_train, x_val, y_train, y_val = train_test_split(x_scaled, y_scaled, test_size = (100 - split) / 100.,random_state = 42)"
   ]
  },
  {
   "cell_type": "markdown",
   "id": "47e334a5-15d0-469f-8a69-58269f39d403",
   "metadata": {},
   "source": [
    "## Training model"
   ]
  },
  {
   "cell_type": "code",
   "execution_count": 18,
   "id": "7c18d0ca-d746-4500-98c1-7dba906c0d2f",
   "metadata": {},
   "outputs": [
    {
     "name": "stdout",
     "output_type": "stream",
     "text": [
      "Epoch 1/100\n"
     ]
    },
    {
     "name": "stderr",
     "output_type": "stream",
     "text": [
      "2023-08-11 17:14:44.200151: I metal_plugin/src/device/metal_device.cc:1154] Metal device set to: Apple M2\n",
      "2023-08-11 17:14:44.200169: I metal_plugin/src/device/metal_device.cc:296] systemMemory: 8.00 GB\n",
      "2023-08-11 17:14:44.200176: I metal_plugin/src/device/metal_device.cc:313] maxCacheSize: 2.67 GB\n",
      "2023-08-11 17:14:44.200353: I tensorflow/core/common_runtime/pluggable_device/pluggable_device_factory.cc:303] Could not identify NUMA node of platform GPU ID 0, defaulting to 0. Your kernel may not have been built with NUMA support.\n",
      "2023-08-11 17:14:44.200367: I tensorflow/core/common_runtime/pluggable_device/pluggable_device_factory.cc:269] Created TensorFlow device (/job:localhost/replica:0/task:0/device:GPU:0 with 0 MB memory) -> physical PluggableDevice (device: 0, name: METAL, pci bus id: <undefined>)\n",
      "2023-08-11 17:14:44.594162: I tensorflow/core/grappler/optimizers/custom_graph_optimizer_registry.cc:114] Plugin optimizer for device_type GPU is enabled.\n"
     ]
    },
    {
     "name": "stdout",
     "output_type": "stream",
     "text": [
      "Epoch 2/100\n"
     ]
    },
    {
     "name": "stderr",
     "output_type": "stream",
     "text": [
      "2023-08-11 17:14:45.763299: I tensorflow/core/grappler/optimizers/custom_graph_optimizer_registry.cc:114] Plugin optimizer for device_type GPU is enabled.\n"
     ]
    },
    {
     "name": "stdout",
     "output_type": "stream",
     "text": [
      "Epoch 3/100\n",
      "Epoch 4/100\n",
      "Epoch 5/100\n",
      "Epoch 6/100\n",
      "Epoch 7/100\n",
      "Epoch 8/100\n",
      "Epoch 9/100\n",
      "Epoch 10/100\n",
      "Epoch 11/100\n",
      "Epoch 12/100\n",
      "Epoch 13/100\n",
      "Epoch 14/100\n",
      "Epoch 15/100\n",
      "Epoch 16/100\n",
      "Epoch 17/100\n",
      "Epoch 18/100\n",
      "Epoch 19/100\n",
      "Epoch 20/100\n",
      "Epoch 21/100\n",
      "Epoch 22/100\n",
      "Epoch 23/100\n",
      "Epoch 24/100\n",
      "Epoch 25/100\n",
      "Epoch 26/100\n",
      "Epoch 27/100\n",
      "Epoch 28/100\n",
      "Epoch 29/100\n",
      "Epoch 30/100\n",
      "Epoch 31/100\n",
      "Epoch 32/100\n",
      "Epoch 33/100\n",
      "Epoch 34/100\n",
      "Epoch 35/100\n",
      "Epoch 36/100\n",
      "Epoch 37/100\n",
      "Epoch 38/100\n",
      "Epoch 39/100\n",
      "Epoch 40/100\n",
      "Epoch 41/100\n",
      "Epoch 42/100\n",
      "Epoch 43/100\n",
      "Epoch 44/100\n",
      "Epoch 45/100\n",
      "Epoch 46/100\n",
      "Epoch 47/100\n",
      "Epoch 48/100\n",
      "Epoch 49/100\n",
      "Epoch 50/100\n",
      "Epoch 51/100\n",
      "Epoch 52/100\n",
      "Epoch 53/100\n",
      "Epoch 54/100\n",
      "Epoch 55/100\n",
      "Epoch 56/100\n",
      "Epoch 57/100\n",
      "Epoch 58/100\n",
      "Epoch 59/100\n",
      "Epoch 60/100\n",
      "Epoch 61/100\n",
      "Epoch 62/100\n",
      "Epoch 63/100\n",
      "Epoch 64/100\n",
      "Epoch 65/100\n",
      "Epoch 66/100\n",
      "Epoch 67/100\n",
      "Epoch 68/100\n",
      "Epoch 69/100\n",
      "Epoch 70/100\n",
      "Epoch 71/100\n",
      "Epoch 72/100\n",
      "Epoch 73/100\n",
      "Epoch 74/100\n",
      "Epoch 75/100\n",
      "Epoch 76/100\n",
      "Epoch 77/100\n",
      "Epoch 78/100\n",
      "Epoch 79/100\n",
      "Epoch 80/100\n",
      "Epoch 81/100\n",
      "Epoch 82/100\n",
      "Epoch 83/100\n",
      "Epoch 84/100\n",
      "Epoch 85/100\n",
      "Epoch 86/100\n",
      "Epoch 87/100\n",
      "Epoch 88/100\n",
      "Epoch 89/100\n",
      "Epoch 90/100\n",
      "Epoch 91/100\n",
      "Epoch 92/100\n",
      "Epoch 93/100\n",
      "Epoch 94/100\n",
      "Epoch 95/100\n",
      "Epoch 96/100\n",
      "Epoch 97/100\n",
      "Epoch 98/100\n",
      "Epoch 99/100\n",
      "Epoch 100/100\n"
     ]
    }
   ],
   "source": [
    "layers = [20, 80, 80, 80, 80, 80, 80, 20]\n",
    "activation_function = 'relu'\n",
    "## Adding gaussian noise layers\n",
    "model =Sequential()\n",
    "for i in layers:\n",
    "    model.add(Dense(i, activation=activation_function))\n",
    "    model.add(GaussianNoise(0.01))\n",
    "    \n",
    "model.add(Dense(y_train.shape[1], activation='linear'))\n",
    "model.compile(loss='mean_squared_error', optimizer='adam')\n",
    "hist1 = model.fit(x=x_train, y=y_train, validation_data= (x_val, y_val), batch_size = 10, \n",
    "                 shuffle = 'true', epochs = 100,verbose = 'false')"
   ]
  },
  {
   "cell_type": "code",
   "execution_count": 19,
   "id": "a8328bcb-eeb2-491f-b509-1c3ffb531eab",
   "metadata": {},
   "outputs": [],
   "source": [
    "epoch1 = hist1.epoch\n",
    "val_loss1 = hist1.history['val_loss']\n",
    "train_loss1 = hist1.history['loss']"
   ]
  },
  {
   "cell_type": "code",
   "execution_count": 20,
   "id": "42f8b243-54e6-4f77-a583-ffabf77a71e0",
   "metadata": {},
   "outputs": [
    {
     "name": "stdout",
     "output_type": "stream",
     "text": [
      "Epoch 1/100\n"
     ]
    },
    {
     "name": "stderr",
     "output_type": "stream",
     "text": [
      "2023-08-11 17:16:24.203676: I tensorflow/core/grappler/optimizers/custom_graph_optimizer_registry.cc:114] Plugin optimizer for device_type GPU is enabled.\n"
     ]
    },
    {
     "name": "stdout",
     "output_type": "stream",
     "text": [
      "Epoch 2/100\n",
      "Epoch 3/100\n"
     ]
    },
    {
     "name": "stderr",
     "output_type": "stream",
     "text": [
      "2023-08-11 17:16:24.507782: I tensorflow/core/grappler/optimizers/custom_graph_optimizer_registry.cc:114] Plugin optimizer for device_type GPU is enabled.\n"
     ]
    },
    {
     "name": "stdout",
     "output_type": "stream",
     "text": [
      "Epoch 4/100\n",
      "Epoch 5/100\n",
      "Epoch 6/100\n",
      "Epoch 7/100\n",
      "Epoch 8/100\n",
      "Epoch 9/100\n",
      "Epoch 10/100\n",
      "Epoch 11/100\n",
      "Epoch 12/100\n",
      "Epoch 13/100\n",
      "Epoch 14/100\n",
      "Epoch 15/100\n",
      "Epoch 16/100\n",
      "Epoch 17/100\n",
      "Epoch 18/100\n",
      "Epoch 19/100\n",
      "Epoch 20/100\n",
      "Epoch 21/100\n",
      "Epoch 22/100\n",
      "Epoch 23/100\n",
      "Epoch 24/100\n",
      "Epoch 25/100\n",
      "Epoch 26/100\n",
      "Epoch 27/100\n",
      "Epoch 28/100\n",
      "Epoch 29/100\n",
      "Epoch 30/100\n",
      "Epoch 31/100\n",
      "Epoch 32/100\n",
      "Epoch 33/100\n",
      "Epoch 34/100\n",
      "Epoch 35/100\n",
      "Epoch 36/100\n",
      "Epoch 37/100\n",
      "Epoch 38/100\n",
      "Epoch 39/100\n",
      "Epoch 40/100\n",
      "Epoch 41/100\n",
      "Epoch 42/100\n",
      "Epoch 43/100\n",
      "Epoch 44/100\n",
      "Epoch 45/100\n",
      "Epoch 46/100\n",
      "Epoch 47/100\n",
      "Epoch 48/100\n",
      "Epoch 49/100\n",
      "Epoch 50/100\n",
      "Epoch 51/100\n",
      "Epoch 52/100\n",
      "Epoch 53/100\n",
      "Epoch 54/100\n",
      "Epoch 55/100\n",
      "Epoch 56/100\n",
      "Epoch 57/100\n",
      "Epoch 58/100\n",
      "Epoch 59/100\n",
      "Epoch 60/100\n",
      "Epoch 61/100\n",
      "Epoch 62/100\n",
      "Epoch 63/100\n",
      "Epoch 64/100\n",
      "Epoch 65/100\n",
      "Epoch 66/100\n",
      "Epoch 67/100\n",
      "Epoch 68/100\n",
      "Epoch 69/100\n",
      "Epoch 70/100\n",
      "Epoch 71/100\n",
      "Epoch 72/100\n",
      "Epoch 73/100\n",
      "Epoch 74/100\n",
      "Epoch 75/100\n",
      "Epoch 76/100\n",
      "Epoch 77/100\n",
      "Epoch 78/100\n",
      "Epoch 79/100\n",
      "Epoch 80/100\n",
      "Epoch 81/100\n",
      "Epoch 82/100\n",
      "Epoch 83/100\n",
      "Epoch 84/100\n",
      "Epoch 85/100\n",
      "Epoch 86/100\n",
      "Epoch 87/100\n",
      "Epoch 88/100\n",
      "Epoch 89/100\n",
      "Epoch 90/100\n",
      "Epoch 91/100\n",
      "Epoch 92/100\n",
      "Epoch 93/100\n",
      "Epoch 94/100\n",
      "Epoch 95/100\n",
      "Epoch 96/100\n",
      "Epoch 97/100\n",
      "Epoch 98/100\n",
      "Epoch 99/100\n",
      "Epoch 100/100\n"
     ]
    }
   ],
   "source": [
    "layers = [20, 80, 80, 80, 80, 80, 80, 20]\n",
    "activation_function = 'relu'\n",
    "## Adding gaussian noise layers\n",
    "model =Sequential()\n",
    "for i in layers:\n",
    "    model.add(Dense(i, activation=activation_function))\n",
    "    model.add(GaussianNoise(0.01))\n",
    "    \n",
    "model.add(Dense(y_train.shape[1], activation='linear'))\n",
    "model.compile(loss='mean_squared_error', optimizer='adam')\n",
    "hist2 = model.fit(x=x_train, y=y_train, validation_data= (x_val, y_val), batch_size = 100, \n",
    "                 shuffle = 'true', epochs = 100,verbose = 'false')"
   ]
  },
  {
   "cell_type": "code",
   "execution_count": 21,
   "id": "b0bf6911-f047-4d65-8fe9-a657fce44db6",
   "metadata": {},
   "outputs": [],
   "source": [
    "epoch2 = hist2.epoch\n",
    "val_loss2 = hist2.history['val_loss']\n",
    "train_loss2 = hist2.history['loss']"
   ]
  },
  {
   "cell_type": "code",
   "execution_count": 22,
   "id": "a545c22f-2c91-4a81-8c10-c3c2b76a0493",
   "metadata": {},
   "outputs": [
    {
     "name": "stdout",
     "output_type": "stream",
     "text": [
      "Epoch 1/100\n"
     ]
    },
    {
     "name": "stderr",
     "output_type": "stream",
     "text": [
      "2023-08-11 17:16:35.659242: I tensorflow/core/grappler/optimizers/custom_graph_optimizer_registry.cc:114] Plugin optimizer for device_type GPU is enabled.\n"
     ]
    },
    {
     "name": "stdout",
     "output_type": "stream",
     "text": [
      "Epoch 2/100\n",
      "Epoch 3/100\n",
      "Epoch 4/100\n",
      "Epoch 5/100\n",
      "Epoch 6/100\n",
      "Epoch 7/100\n",
      "Epoch 8/100\n"
     ]
    },
    {
     "name": "stderr",
     "output_type": "stream",
     "text": [
      "2023-08-11 17:16:35.904940: I tensorflow/core/grappler/optimizers/custom_graph_optimizer_registry.cc:114] Plugin optimizer for device_type GPU is enabled.\n"
     ]
    },
    {
     "name": "stdout",
     "output_type": "stream",
     "text": [
      "Epoch 9/100\n",
      "Epoch 10/100\n",
      "Epoch 11/100\n",
      "Epoch 12/100\n",
      "Epoch 13/100\n",
      "Epoch 14/100\n",
      "Epoch 15/100\n",
      "Epoch 16/100\n",
      "Epoch 17/100\n",
      "Epoch 18/100\n",
      "Epoch 19/100\n",
      "Epoch 20/100\n",
      "Epoch 21/100\n",
      "Epoch 22/100\n",
      "Epoch 23/100\n",
      "Epoch 24/100\n",
      "Epoch 25/100\n",
      "Epoch 26/100\n",
      "Epoch 27/100\n",
      "Epoch 28/100\n",
      "Epoch 29/100\n",
      "Epoch 30/100\n",
      "Epoch 31/100\n",
      "Epoch 32/100\n",
      "Epoch 33/100\n",
      "Epoch 34/100\n",
      "Epoch 35/100\n",
      "Epoch 36/100\n",
      "Epoch 37/100\n",
      "Epoch 38/100\n",
      "Epoch 39/100\n",
      "Epoch 40/100\n",
      "Epoch 41/100\n",
      "Epoch 42/100\n",
      "Epoch 43/100\n",
      "Epoch 44/100\n",
      "Epoch 45/100\n",
      "Epoch 46/100\n",
      "Epoch 47/100\n",
      "Epoch 48/100\n",
      "Epoch 49/100\n",
      "Epoch 50/100\n",
      "Epoch 51/100\n",
      "Epoch 52/100\n",
      "Epoch 53/100\n",
      "Epoch 54/100\n",
      "Epoch 55/100\n",
      "Epoch 56/100\n",
      "Epoch 57/100\n",
      "Epoch 58/100\n",
      "Epoch 59/100\n",
      "Epoch 60/100\n",
      "Epoch 61/100\n",
      "Epoch 62/100\n",
      "Epoch 63/100\n",
      "Epoch 64/100\n",
      "Epoch 65/100\n",
      "Epoch 66/100\n",
      "Epoch 67/100\n",
      "Epoch 68/100\n",
      "Epoch 69/100\n",
      "Epoch 70/100\n",
      "Epoch 71/100\n",
      "Epoch 72/100\n",
      "Epoch 73/100\n",
      "Epoch 74/100\n",
      "Epoch 75/100\n",
      "Epoch 76/100\n",
      "Epoch 77/100\n",
      "Epoch 78/100\n",
      "Epoch 79/100\n",
      "Epoch 80/100\n",
      "Epoch 81/100\n",
      "Epoch 82/100\n",
      "Epoch 83/100\n",
      "Epoch 84/100\n",
      "Epoch 85/100\n",
      "Epoch 86/100\n",
      "Epoch 87/100\n",
      "Epoch 88/100\n",
      "Epoch 89/100\n",
      "Epoch 90/100\n",
      "Epoch 91/100\n",
      "Epoch 92/100\n",
      "Epoch 93/100\n",
      "Epoch 94/100\n",
      "Epoch 95/100\n",
      "Epoch 96/100\n",
      "Epoch 97/100\n",
      "Epoch 98/100\n",
      "Epoch 99/100\n",
      "Epoch 100/100\n"
     ]
    }
   ],
   "source": [
    "layers = [20, 80, 80, 80, 80, 80, 80, 20]\n",
    "activation_function = 'relu'\n",
    "## Adding gaussian noise layers\n",
    "model =Sequential()\n",
    "for i in layers:\n",
    "    model.add(Dense(i, activation=activation_function))\n",
    "    model.add(GaussianNoise(0.01))\n",
    "    \n",
    "model.add(Dense(y_train.shape[1], activation='linear'))\n",
    "model.compile(loss='mean_squared_error', optimizer='adam')\n",
    "hist3 = model.fit(x=x_train, y=y_train, validation_data= (x_val, y_val), batch_size = 1000, \n",
    "                 shuffle = 'true', epochs = 100,verbose = 'false')"
   ]
  },
  {
   "cell_type": "code",
   "execution_count": 26,
   "id": "85a97558-64a0-4a4b-b60f-7a153255a38b",
   "metadata": {},
   "outputs": [
    {
     "data": {
      "text/plain": [
       "[0.9980297684669495,\n",
       " 0.8044960498809814,\n",
       " 0.6763922572135925,\n",
       " 0.5868711471557617,\n",
       " 0.5275148153305054,\n",
       " 0.4801672399044037,\n",
       " 0.4350316822528839,\n",
       " 0.40041419863700867,\n",
       " 0.38334137201309204,\n",
       " 0.38198524713516235,\n",
       " 0.3922090530395508,\n",
       " 0.41125884652137756,\n",
       " 0.43051859736442566,\n",
       " 0.46591782569885254,\n",
       " 0.5174431204795837,\n",
       " 0.5697939395904541,\n",
       " 0.6111977696418762,\n",
       " 0.6579770445823669,\n",
       " 0.7337003946304321,\n",
       " 0.858964204788208,\n",
       " 0.9797877073287964,\n",
       " 1.1095736026763916,\n",
       " 1.196444034576416,\n",
       " 1.2936640977859497,\n",
       " 1.238750696182251,\n",
       " 1.0996147394180298,\n",
       " 0.9552857875823975,\n",
       " 0.8327983617782593,\n",
       " 0.750190794467926,\n",
       " 0.6710397005081177,\n",
       " 1.5890461206436157,\n",
       " 1.444183588027954,\n",
       " 1.20902681350708,\n",
       " 1.6028904914855957,\n",
       " 1.9271527528762817,\n",
       " 2.205634117126465,\n",
       " 2.7051331996917725,\n",
       " 2.4204869270324707,\n",
       " 2.0134024620056152,\n",
       " 3.133941888809204,\n",
       " 1.5474213361740112,\n",
       " 2.8180975914001465,\n",
       " 4.033146381378174,\n",
       " 10.730111122131348,\n",
       " 13.006226539611816,\n",
       " 20.944393157958984,\n",
       " 26.00067138671875,\n",
       " 36.873512268066406,\n",
       " 45.17276382446289,\n",
       " 60.9702262878418,\n",
       " 59.984596252441406,\n",
       " 34.53288269042969,\n",
       " 33.855995178222656,\n",
       " 32.233036041259766,\n",
       " 38.44890213012695,\n",
       " 38.21400833129883,\n",
       " 30.15663719177246,\n",
       " 35.25621795654297,\n",
       " 24.86916160583496,\n",
       " 32.46744155883789,\n",
       " 31.963443756103516,\n",
       " 16.76116371154785,\n",
       " 30.65708351135254,\n",
       " 26.289152145385742,\n",
       " 15.565281867980957,\n",
       " 30.715953826904297,\n",
       " 21.567163467407227,\n",
       " 10.700933456420898,\n",
       " 27.094785690307617,\n",
       " 11.340950965881348,\n",
       " 8.948986053466797,\n",
       " 23.997026443481445,\n",
       " 5.071966171264648,\n",
       " 8.074336051940918,\n",
       " 17.006391525268555,\n",
       " 3.4914820194244385,\n",
       " 5.639756679534912,\n",
       " 11.544252395629883,\n",
       " 4.475838661193848,\n",
       " 1.7057914733886719,\n",
       " 6.055026531219482,\n",
       " 6.427490234375,\n",
       " 2.849668264389038,\n",
       " 0.8840554356575012,\n",
       " 1.4728691577911377,\n",
       " 3.193138599395752,\n",
       " 14.840677261352539,\n",
       " 71.00875091552734,\n",
       " 123.70403289794922,\n",
       " 95.14067077636719,\n",
       " 134.31802368164062,\n",
       " 171.1377716064453,\n",
       " 117.87457275390625,\n",
       " 133.13360595703125,\n",
       " 192.374755859375,\n",
       " 132.5753173828125,\n",
       " 72.34048461914062,\n",
       " 69.1083755493164,\n",
       " 89.47572326660156,\n",
       " 98.25165557861328]"
      ]
     },
     "execution_count": 26,
     "metadata": {},
     "output_type": "execute_result"
    }
   ],
   "source": [
    "epoch3 = hist3.epoch\n",
    "val_loss3 = hist3.history['val_loss']\n",
    "train_loss3 = hist3.history['loss']\n",
    "val_loss3"
   ]
  },
  {
   "cell_type": "code",
   "execution_count": 25,
   "id": "e37de572-6455-4cdb-9610-fe2af361b200",
   "metadata": {},
   "outputs": [
    {
     "name": "stderr",
     "output_type": "stream",
     "text": [
      "/var/folders/t7/yy62typn4y1cknks8l305k2h0000gn/T/ipykernel_2349/670629008.py:19: UserWarning: The figure layout has changed to tight\n",
      "  plt.tight_layout()\n"
     ]
    },
    {
     "data": {
      "text/plain": [
       "<function matplotlib.pyplot.show(close=None, block=None)>"
      ]
     },
     "execution_count": 25,
     "metadata": {},
     "output_type": "execute_result"
    },
    {
     "data": {
      "image/png": "[encoded data removed]",
      "text/plain": [
       "<Figure size 1000x800 with 2 Axes>"
      ]
     },
     "metadata": {},
     "output_type": "display_data"
    }
   ],
   "source": [
    "plt.figure(figsize=(10,8))\n",
    "plt.subplot(1,2,1)\n",
    "plt.plot(epoch1, train_loss1, label ='10')\n",
    "plt.plot(epoch2, train_loss2, label ='100')\n",
    "plt.plot(epoch3, train_loss3, label ='10000')\n",
    "plt.legend()\n",
    "plt.xlabel('epoch')\n",
    "plt.ylabel('training  loss')\n",
    "plt.title('training  loss vs epoch')\n",
    "plt.tight_layout()\n",
    "plt.subplot(1,2,2)\n",
    "plt.plot(epoch1, val_loss1, label ='10')\n",
    "plt.plot(epoch2, val_loss2, label ='100')\n",
    "plt.plot(epoch3, val_loss3, label ='10000')\n",
    "plt.xlabel('epoch')\n",
    "plt.ylabel('validation  loss')\n",
    "plt.title('validation  loss vs epoch')\n",
    "plt.legend()\n",
    "plt.tight_layout()\n",
    "plt.show"
   ]
  },
  {
   "cell_type": "code",
   "execution_count": null,
   "id": "a3e1cce4-fd11-4f8a-8f55-587855a7c7b5",
   "metadata": {},
   "outputs": [],
   "source": [
    "plt.figure(figsize=(10,8))\n",
    "plt.subplot(1,2,1)\n",
    "plt.semilogy(epoch, train_loss1, label ='10')\n",
    "plt.semilogy(epoch, train_loss2, label ='100')\n",
    "plt.semilogy(epoch, train_loss3, label ='10000')\n",
    "plt.legend()\n",
    "plt.xlabel('epoch')\n",
    "plt.ylabel('log(training  loss)')\n",
    "plt.title('logarithm of training  loss vs epoch')\n",
    "plt.tight_layout()\n",
    "plt.subplot(1,2,2)\n",
    "plt.semilogy(epoch, val_loss1, label ='10')\n",
    "plt.semilogy(epoch, val_loss2, label ='100')\n",
    "plt.semilogy(epoch, val_loss3, label ='10000')\n",
    "plt.xlabel('epoch')\n",
    "plt.ylabel('log(validation  loss)')\n",
    "plt.title('logarith of validation  loss vs epoch')\n",
    "plt.legend()\n",
    "plt.tight_layout()\n",
    "plt.show"
   ]
  },
  {
   "cell_type": "code",
   "execution_count": null,
   "id": "10ef6ac9-7961-4ec4-bee9-043bfac4ac57",
   "metadata": {},
   "outputs": [],
   "source": [
    "y_pred = model.predict(x=x_val)\n",
    "row,col= y_pred.shape\n",
    "print(row, col)\n",
    "plt.figure(figsize=(15,15))\n",
    "ind =int(np.sqrt(col))+1\n",
    "for i in range(0,col):\n",
    "    plt.subplot(ind,ind,i+1)\n",
    "    plt.hexbin(y_val[:,i], y_pred [:,i], cmap= 'Reds')#'viridis')\n",
    "    plt.ylabel('predicted outputs')\n",
    "    plt.xlabel('actual outputs')\n",
    "    plt.tight_layout()\n",
    "plt.show()\n",
    "residuals= (y_pred -y_val)\n",
    "rsq = np.sum(residuals**2, axis =0)/(np.sum(y_val**2, axis=0))\n",
    "print(rsq)"
   ]
  },
  {
   "cell_type": "code",
   "execution_count": null,
   "id": "ef414511-3186-43cd-81bb-c18b03ef8b5c",
   "metadata": {},
   "outputs": [],
   "source": [
    "!conda config --add channels conda-forge\n",
    "!conda config --set channel_priority strict\n",
    "!conda install pygmo -y "
   ]
  },
  {
   "cell_type": "code",
   "execution_count": null,
   "id": "91c7f21e-2e67-4f01-9f72-6ff29359ed83",
   "metadata": {},
   "outputs": [],
   "source": [
    "!conda install pygmo -y"
   ]
  },
  {
   "cell_type": "code",
   "execution_count": null,
   "id": "5b42b8b2-b9e6-4c64-9483-449850399e43",
   "metadata": {},
   "outputs": [],
   "source": []
  }
 ],
 "metadata": {
  "kernelspec": {
   "display_name": "Python 3 (ipykernel)",
   "language": "python",
   "name": "python3"
  },
  "language_info": {
   "codemirror_mode": {
    "name": "ipython",
    "version": 3
   },
   "file_extension": ".py",
   "mimetype": "text/x-python",
   "name": "python",
   "nbconvert_exporter": "python",
   "pygments_lexer": "ipython3",
   "version": "3.9.16"
  }
 },
 "nbformat": 4,
 "nbformat_minor": 5
}
